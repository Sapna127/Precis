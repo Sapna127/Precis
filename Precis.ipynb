{
 "cells": [
  {
   "cell_type": "code",
   "execution_count": 8,
   "metadata": {},
   "outputs": [
    {
     "name": "stdout",
     "output_type": "stream",
     "text": [
      " ____                _          \n",
      "|  _ \\ _ __ ___  ___(_)___  ___ \n",
      "| |_) | '__/ _ \\/ __| / __|/ _ \\\n",
      "|  __/| | |  __/ (__| \\__ \\  __/\n",
      "|_|   |_|  \\___|\\___|_|___/\\___|\n",
      "                                \n",
      "\n",
      "\n",
      "The fauna of Scotland is generally typical of the northwest European part of the Palearctic realm, although several of the country's larger mammals were hunted to extinction in historic times and human activity has also led to various species of wildlife being introduced. Scotland's diverse temperate environments support 62 species of wild mammals, including a population of wild cats, important numbers of grey and harbour seals and the most northerly colony of bottlenose dolphins in the world.[1][2][3]\n",
      "Many populations of moorland birds, including the black and red grouse live here, and the country has internationally significant nesting grounds for seabirds such as the northern gannet.[4] The golden eagle has become a national icon,[5] and white-tailed eagles and ospreys have recently re-colonised the land. The Scottish crossbill is the only endemic vertebrate species in the UK.[6][7][8]\n",
      "Scotland's seas are among the most biologically productive in the world; it is estimated that the total number of Scottish marine species exceeds 40,000.[9] The Darwin Mounds are an important area of deep sea cold water coral reefs discovered in 1998. Inland, nearly 400 genetically distinct populations of Atlantic salmon live in Scottish rivers.[10] Of the 42 species of fish found in the country's fresh waters, half have arrived by natural colonisation and half by human introduction.\n",
      "Only six amphibians and four land reptiles are native to Scotland, but many species of invertebrates live th\n"
     ]
    },
    {
     "ename": "ModuleNotFoundError",
     "evalue": "No module named 'nltk'",
     "output_type": "error",
     "traceback": [
      "\u001b[1;31m---------------------------------------------------------------------------\u001b[0m",
      "\u001b[1;31mModuleNotFoundError\u001b[0m                       Traceback (most recent call last)",
      "Cell \u001b[1;32mIn [8], line 42\u001b[0m\n\u001b[0;32m     39\u001b[0m formatted_text \u001b[39m=\u001b[39m re\u001b[39m.\u001b[39msub(\u001b[39m'\u001b[39m\u001b[39m[^a-zA-Z]\u001b[39m\u001b[39m'\u001b[39m, \u001b[39m'\u001b[39m\u001b[39m \u001b[39m\u001b[39m'\u001b[39m, scrapped_data)\n\u001b[0;32m     40\u001b[0m formatted_text \u001b[39m=\u001b[39m re\u001b[39m.\u001b[39msub(\u001b[39mr\u001b[39m\u001b[39m'\u001b[39m\u001b[39m\\\u001b[39m\u001b[39ms+\u001b[39m\u001b[39m'\u001b[39m, \u001b[39m'\u001b[39m\u001b[39m \u001b[39m\u001b[39m'\u001b[39m, formatted_text)\n\u001b[1;32m---> 42\u001b[0m \u001b[39mimport\u001b[39;00m \u001b[39mnltk\u001b[39;00m \u001b[39m#if you don't have it, then>> python3 -m pip install nltk\u001b[39;00m\n\u001b[0;32m     43\u001b[0m all_sentences \u001b[39m=\u001b[39m nltk\u001b[39m.\u001b[39msent_tokenize(scrapped_data)\n\u001b[0;32m     45\u001b[0m \u001b[39m# Stop Words are the words that you will most probably ignore, so we filter them out of the text.\u001b[39;00m\n",
      "\u001b[1;31mModuleNotFoundError\u001b[0m: No module named 'nltk'"
     ]
    }
   ],
   "source": [
    "# Install these as requirements if you need. \n",
    "# You may also try \"pip3 install beautifulsoup4\" if \"pip\" encounters errors.\n",
    "# $ pip install beautifulsoup4\n",
    "# $ pip install lxml\n",
    "\n",
    "import bs4 as bs\n",
    "import urllib.request\n",
    "import re\n",
    "import pyfiglet # Not necessary if you don't need terminal decoration:)\n",
    "\n",
    "# Normally, in Jupyter Notebooks, you may prefer to give a fixed URL, change the URL when you need it\n",
    "# and not ask for user input.But I wanted to see which articles, \n",
    "# I can get a better summary and when the NLTK does \"so so\":)\n",
    "\n",
    "welcome = pyfiglet.figlet_format(\"Precis\", font = \"standard\" )\n",
    "farewell = pyfiglet.figlet_format(\"Wiki\", font = \"doh\" )\n",
    "print(welcome,sep=\"\\n\\n\")\n",
    "\n",
    "userLink = input(\"Enter the URL of an article you want me to summarize: \")\n",
    "# Provide the Wikipedia URL like this: https://\n",
    "raw_data = urllib.request.urlopen(\"https://en.wikipedia.org/wiki/Fauna_of_Scotland\") \n",
    "document = raw_data.read()\n",
    "\n",
    "parsed_document = bs.BeautifulSoup(document,'lxml')\n",
    "\n",
    "article_paras = parsed_document.find_all('p')\n",
    "\n",
    "scrapped_data = \"\"\n",
    "\n",
    "for para in article_paras:\n",
    "    scrapped_data += para.text\n",
    "\n",
    "print(scrapped_data[:1500]) \n",
    "#You may increase or reduce the first 1000 or 1500 characters of the scraped text, etc\n",
    "\n",
    "scrapped_data = re.sub(r'\\[[0-9]*\\]', ' ',  scrapped_data)\n",
    "scrapped_data = re.sub(r'\\s+', ' ',  scrapped_data)\n",
    "\n",
    "formatted_text = re.sub('[^a-zA-Z]', ' ', scrapped_data)\n",
    "formatted_text = re.sub(r'\\s+', ' ', formatted_text)\n",
    "\n",
    "import nltk #if you don't have it, then>> python3 -m pip install nltk\n",
    "all_sentences = nltk.sent_tokenize(scrapped_data)\n",
    "\n",
    "# Stop Words are the words that you will most probably ignore, so we filter them out of the text.\n",
    "stopwords = nltk.corpus.stopwords.words('english')\n",
    "\n",
    "word_freq = {}\n",
    "for word in nltk.word_tokenize(formatted_text):\n",
    "    if word not in stopwords:\n",
    "        if word not in word_freq.keys():\n",
    "            word_freq[word] = 1\n",
    "        else:\n",
    "            word_freq[word] += 1\n",
    "\n",
    "max_freq = max(word_freq.values())\n",
    "\n",
    "for word in word_freq.keys():\n",
    "    word_freq[word] = (word_freq[word]/max_freq)\n",
    "\n",
    "\n",
    "sentence_scores = {}\n",
    "for sentence in all_sentences:\n",
    "    for token in nltk.word_tokenize(sentence.lower()):\n",
    "        if token in word_freq.keys():\n",
    "            if len(sentence.split(' ')) <25:\n",
    "                if sentence not in sentence_scores.keys():\n",
    "                    sentence_scores[sentence] = word_freq[token]\n",
    "                else:\n",
    "                    sentence_scores[sentence] += word_freq[token]\n",
    "\n",
    "\n",
    "import heapq\n",
    "selected_sentences= heapq.nlargest(5, sentence_scores, key=sentence_scores.get)\n",
    "\n",
    "text_summary = ' '.join(selected_sentences)\n",
    "print(text_summary)\n",
    "print(\" \")\n",
    "print(pyfiglet.figlet_format(\"                                   E.N.D\", font = \"standard\" ))\n",
    "print(\"\\t\\t\\t\\tEnd of Automatic summarization\")\n",
    "print(farewell + \"\\t\\t\\tArticle Summarizer \")\n",
    "print(\"\\t\\t\\t\\tHope you liked my summary\",sep=\"  \")"
   ]
  },
  {
   "cell_type": "markdown",
   "metadata": {},
   "source": []
  }
 ],
 "metadata": {
  "kernelspec": {
   "display_name": "Python 3.10.4 64-bit",
   "language": "python",
   "name": "python3"
  },
  "language_info": {
   "codemirror_mode": {
    "name": "ipython",
    "version": 3
   },
   "file_extension": ".py",
   "mimetype": "text/x-python",
   "name": "python",
   "nbconvert_exporter": "python",
   "pygments_lexer": "ipython3",
   "version": "3.10.4"
  },
  "orig_nbformat": 4,
  "vscode": {
   "interpreter": {
    "hash": "369f2c481f4da34e4445cda3fffd2e751bd1c4d706f27375911949ba6bb62e1c"
   }
  }
 },
 "nbformat": 4,
 "nbformat_minor": 2
}
